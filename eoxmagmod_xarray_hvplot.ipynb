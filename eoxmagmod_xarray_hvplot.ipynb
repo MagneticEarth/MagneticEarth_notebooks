{
 "cells": [
  {
   "cell_type": "markdown",
   "metadata": {},
   "source": [
    "# Using eoxmagmod, xarray, and hvplot / holoviews\n",
    "\n",
    "This notebook demonstrates how to use these tools together to rapidly build nice visualisations of geomagnetic models. A lot of things are used here without explanation (including xarray and cartopy), and you will encounter bugs and inconsistent behaviour with holoviews. Beware!\n",
    "\n",
    "## TODO\n",
    "\n",
    "Probably refactor into separate notebooks. It is too long.\n",
    "\n",
    "## Requirements\n",
    "\n",
    "- [holoviz](https://holoviz.org/background.html)\n",
    "    - advanced visualisation!\n",
    "    - holoviz isn't in conda-forge.. why?\n",
    "    - do `conda install -c pyviz holoviz` ?\n",
    "    - or `conda install -c conda-forge holoviews geoviews hvplot ...`\n",
    "    - and the jupyterlab extension:\n",
    "        - `jupyter labextension install @pyviz/jupyterlab_pyviz`\n",
    "- [eoxmagmod](https://github.com/ESA-VirES/MagneticModel) \n",
    "    - fast magnetic model forward code\n",
    "    - takes a bit of time to install\n",
    "- xarray to store the data and connect with holoviz\n",
    "    - `conda install xarray`\n",
    "- chaosmagpy just for the colormap\n",
    "    - `pip install chaosmagpy`\n",
    "- selenium, phantomjs (for holoviews output as png)\n",
    "    - `conda install selenium phantomjs`\n",
    "- ffmpeg for .webm creation\n",
    "    - `sudo apt install ffmpeg`\n",
    "\n",
    "assumed running on Linux\n",
    "\n",
    "## Recommended reading\n",
    "- https://holoviz.org/background.html\n",
    "- https://hvplot.pyviz.org/\n",
    "- http://holoviews.org/user_guide/Exporting_and_Archiving.html\n",
    "- http://holoviews.org/user_guide/Plots_and_Renderers.html\n",
    "- http://docs.bokeh.org/en/1.3.2/docs/user_guide/embed.html"
   ]
  },
  {
   "cell_type": "code",
   "execution_count": null,
   "metadata": {},
   "outputs": [],
   "source": [
    "import datetime as dt\n",
    "import numpy as np\n",
    "import pandas as pd\n",
    "import matplotlib.pyplot as plt\n",
    "import xarray as xr\n",
    "import hvplot.xarray\n",
    "import holoviews\n",
    "import cartopy.crs as ccrs\n",
    "import geoviews as gv\n",
    "import geoviews.feature as gf\n",
    "gv.extension('bokeh', 'matplotlib')\n",
    "\n",
    "import eoxmagmod\n",
    "from chaosmagpy.plot_utils import nio_colormap"
   ]
  },
  {
   "cell_type": "markdown",
   "metadata": {},
   "source": [
    "## Some functions to help through the notebook"
   ]
  },
  {
   "cell_type": "code",
   "execution_count": null,
   "metadata": {},
   "outputs": [],
   "source": [
    "def datetime_to_mjd2000(t: dt.datetime) -> float:\n",
    "    \"Convert a datetime object to MJD2000.\"\n",
    "    # Convert to datetime64 ns\n",
    "    t = np.datetime64(t).astype(\"M8[ns]\")\n",
    "    # Get offset to year 2000\n",
    "    t = (t - np.datetime64('2000')).astype('int64')\n",
    "    # Convert from ns to days\n",
    "    NS2DAYS = 1.0/(24*60*60*1e9)\n",
    "    return t * NS2DAYS"
   ]
  },
  {
   "cell_type": "code",
   "execution_count": null,
   "metadata": {},
   "outputs": [],
   "source": [
    "def generate_latlon_grid(resolution=2, min_lat=-90, max_lat=90):\n",
    "    \"Generate a grid of positions over the Earth at a given degree resolution.\"\n",
    "    lat, lon = np.meshgrid(\n",
    "        np.arange(min_lat, max_lat, resolution),\n",
    "        np.arange(-180, 180, resolution))\n",
    "    REFRAD_KM = 6371.200\n",
    "    rad = np.ones_like(lat)*REFRAD_KM\n",
    "    return lat, lon, rad"
   ]
  },
  {
   "cell_type": "code",
   "execution_count": null,
   "metadata": {},
   "outputs": [],
   "source": [
    "def eval_model_on_grid(\n",
    "        lat: np.ndarray, lon: np.ndarray, rad: np.ndarray,\n",
    "        times: np.ndarray, model=None, shc_model=eoxmagmod.data.IGRF12,\n",
    "        **opts):\n",
    "    \"\"\"Use eoxmagmod to evaluate a model over a grid.\n",
    "    \n",
    "    Evaluate the B_NEC vector at each point in a grid, for a range of times.\n",
    "    \n",
    "    Args:\n",
    "        lat (ndarray): Latitude in degrees (Spherical geocentric)\n",
    "        lon (ndarray): Longitude in degrees\n",
    "        rad (ndarray): Geocentric radius in kilometres\n",
    "        times (ndarray): 1-D array of datetimes\n",
    "        model (magnetic_model): Model loaded with eoxmagmod.load_model_<x>\n",
    "        shc_model (str): Path to a shc model\n",
    "\n",
    "    Returns:\n",
    "        ndarray: B_NEC values at each point\n",
    "\n",
    "    \"\"\"\n",
    "    if shc_model and not model:\n",
    "        model = eoxmagmod.load_model_shc(shc_model)\n",
    "    times_mjd2000 = [datetime_to_mjd2000(t) for t in times]\n",
    "    # Reshape the input coordinates to use eoxmagmod\n",
    "    orig_shape = lat.shape\n",
    "    _lat, _lon, _rad = map(lambda x: x.flatten(), (lat, lon, rad))\n",
    "    coords = np.stack((_lat, _lon, _rad), axis=1)\n",
    "    coords = np.stack([coords for i in range(len(times_mjd2000))])\n",
    "    timestack = np.stack([np.ones_like(_lat)*t for t in times_mjd2000])\n",
    "    # Use the model and do the computation\n",
    "    b_nec = model.eval(timestack, coords, scale=[1, 1, -1], **opts)\n",
    "    # Reshape output back to original grid\n",
    "    b_nec = b_nec.reshape(times.shape + orig_shape + (3, ))\n",
    "    return b_nec"
   ]
  },
  {
   "cell_type": "code",
   "execution_count": null,
   "metadata": {},
   "outputs": [],
   "source": []
  },
  {
   "cell_type": "markdown",
   "metadata": {},
   "source": [
    "# Evaluate the IGRF on a global grid across a range of years and assign to a xarray Dataset"
   ]
  },
  {
   "cell_type": "code",
   "execution_count": null,
   "metadata": {},
   "outputs": [],
   "source": [
    "# The list of times to sample and the grid to use\n",
    "times = np.array([dt.datetime(year, 1, 1) for year in range(1900, 2021, 10)])\n",
    "lat, lon, rad = generate_latlon_grid(resolution=2)\n",
    "# Evaluate the model\n",
    "b_nec = eval_model_on_grid(lat, lon, rad, times, shc_model=eoxmagmod.data.IGRF13)\n",
    "# b_nec = eval_model_on_grid(lat, lon, rad, times, shc_model=\"IGRF13.shc\")\n",
    "# Assign to an xarray.Dataset\n",
    "ds = xr.Dataset({'B_NEC': (['time', 'x', 'y', 'NEC'],  b_nec)},\n",
    "             coords={'lon': (['x', 'y'], lon),\n",
    "                     'lat': (['x', 'y'], lat),\n",
    "                     'time': times})\n",
    "# Add some columns\n",
    "# Intensity\n",
    "ds[\"F\"] = np.sqrt(np.sum(ds[\"B_NEC\"]**2, axis=3))\n",
    "# Declination, arctan(B_E / B_N)\n",
    "ds[\"DEC\"] = np.rad2deg(np.arctan(\n",
    "    ds[\"B_NEC\"][:, :, :, 1] / ds[\"B_NEC\"][:, :, :, 0]))\n",
    "# # Alternative \"expanded\" form:\n",
    "# ds = xr.Dataset(\n",
    "#     {'B_NEC_N': (['time', 'x', 'y'],  b_nec[:, :, :, 0]),\n",
    "#      'B_NEC_E': (['time', 'x', 'y'],  b_nec[:, :, :, 1]),\n",
    "#      'B_NEC_C': (['time', 'x', 'y'],  b_nec[:, :, :, 2]),},\n",
    "#     coords={'lon': (['x', 'y'], lon),\n",
    "#             'lat': (['x', 'y'], lat),\n",
    "#             'time': times})\n",
    "ds"
   ]
  },
  {
   "cell_type": "markdown",
   "metadata": {},
   "source": [
    "# Some options to access data from `ds` and plot it\n",
    "\n",
    "### Slice out a time and B_C (downwards/Z) and plot it with the matplotlib interface"
   ]
  },
  {
   "cell_type": "code",
   "execution_count": null,
   "metadata": {},
   "outputs": [],
   "source": [
    "ds.sel({\"time\": \"1900\"})[\"B_NEC\"][:, :, :, 2].plot(x=\"lon\", y=\"lat\")"
   ]
  },
  {
   "cell_type": "markdown",
   "metadata": {},
   "source": [
    "### More initial matplotlib configuration and setting to use cartopy"
   ]
  },
  {
   "cell_type": "code",
   "execution_count": null,
   "metadata": {},
   "outputs": [],
   "source": [
    "fig = plt.figure(figsize=(10, 5))\n",
    "ax = fig.add_subplot(1, 1, 1, projection=ccrs.Mollweide())\n",
    "ds.sel({\"time\": \"1900\"})[\"B_NEC\"][:, :, :, 2].plot(x=\"lon\", y=\"lat\", ax=ax, transform=ccrs.PlateCarree())\n",
    "ax.coastlines()\n",
    "ax"
   ]
  },
  {
   "cell_type": "markdown",
   "metadata": {},
   "source": [
    "### Slice out B_C and plot it using contourf with hvplot "
   ]
  },
  {
   "cell_type": "code",
   "execution_count": null,
   "metadata": {},
   "outputs": [],
   "source": [
    "ds[\"B_NEC\"][:, :, :, 2].hvplot.contourf('lon', 'lat', levels=10)"
   ]
  },
  {
   "cell_type": "markdown",
   "metadata": {},
   "source": [
    "### More complex hvplot usage together with cartopy"
   ]
  },
  {
   "cell_type": "code",
   "execution_count": null,
   "metadata": {},
   "outputs": [],
   "source": [
    "ds[\"time\"][-1].values"
   ]
  },
  {
   "cell_type": "code",
   "execution_count": null,
   "metadata": {},
   "outputs": [],
   "source": [
    "# Squeeze out just one time slice to simplify it\n",
    "ds_sub = ds.sel({\"time\": \"2020\"}).squeeze(\"time\")\n",
    "# Subsample\n",
    "ds_sub = ds_sub.isel({\"x\":slice(None, None, 2), \"y\":slice(None, None,2)})\n",
    "\n",
    "# Some configuration to use for both plots\n",
    "fig_kwargs = dict(\n",
    "    projection=ccrs.Mollweide(), global_extent=True, frame_height=400\n",
    ")\n",
    "\n",
    "title = \"\"\"IGRF-13 evaluated at 01/01/2020\"\"\"\n",
    "# Background colour: field intensity\\n\n",
    "# Red/blue contours: declination\n",
    "# \"\"\"\n",
    "\n",
    "# Create a filled contour plot of intensity\n",
    "ax1 = ds_sub.hvplot.contourf(\n",
    "    'lon', 'lat', 'F', levels=30, cmap='viridis', alpha=0.8,\n",
    "    coastline=True, title=title, hover=False, clabel=\"Intensity / nT\",\n",
    "    **fig_kwargs\n",
    ")\n",
    "# .. and overlay with declination contours\n",
    "ax2 = ds_sub.hvplot.contour(\n",
    "    'lon', 'lat', 'DEC', levels=30, cmap=\"seismic\", line_width=2, **fig_kwargs\n",
    ")\n",
    "ax3 = ax1 * ax2\n",
    "# ax3.opts(tools=\"box_zoom,reset,tap\".split(\",\"), toolbar=\"right\")\n",
    "print(ax3)\n",
    "ax3"
   ]
  },
  {
   "cell_type": "code",
   "execution_count": null,
   "metadata": {},
   "outputs": [],
   "source": [
    "hvplot.save(ax3, \"outputs/hvplot_igrf13_2020.html\")"
   ]
  },
  {
   "cell_type": "markdown",
   "metadata": {},
   "source": [
    "### Complex plot with timeslider seems buggy..."
   ]
  },
  {
   "cell_type": "code",
   "execution_count": null,
   "metadata": {},
   "outputs": [],
   "source": [
    "# Some configuration to use for both plots\n",
    "# NB must set dynamic=False so that the bokeh plot does not rely on a server\n",
    "fig_kwargs = dict(\n",
    "    projection=ccrs.Mollweide(), global_extent=True, frame_height=300, dynamic=False,\n",
    ")\n",
    "\n",
    "# Create a filled contour plot of intensity\n",
    "# NB need to set the contours explicitly in order to fix them across timeslices\n",
    "contours = np.arange(30000, 70000, 5000)\n",
    "ax1 = ds.hvplot.contourf(\n",
    "    'lon', 'lat', 'F', levels=contours, cmap='viridis', alpha=0.8, \n",
    "    coastline=True, hover=False, clabel=\"Intensity / nT\", clim=(30000, 70000),\n",
    "    **fig_kwargs\n",
    ")\n",
    "# ax2 = ds.hvplot.contour(\n",
    "#     'lon', 'lat', 'DEC', levels=40, cmap=\"seismic\", **fig_kwargs\n",
    "# )\n",
    "# ax1 * ax2\n",
    "ax1"
   ]
  },
  {
   "cell_type": "markdown",
   "metadata": {},
   "source": [
    "### Use a quadmesh plot instead and subsample the inputs"
   ]
  },
  {
   "cell_type": "code",
   "execution_count": null,
   "metadata": {},
   "outputs": [],
   "source": [
    "ds_sub = ds.isel(x=slice(0, -1, 2), y=slice(0, -1, 2), time=slice(0, -1, 2))"
   ]
  },
  {
   "cell_type": "code",
   "execution_count": null,
   "metadata": {},
   "outputs": [],
   "source": [
    "# Some configuration to use for both plots\n",
    "# NB must set dynamic=False so that the bokeh plot does not rely on a server\n",
    "fig_kwargs = dict(\n",
    "    projection=ccrs.Mollweide(), global_extent=True, frame_height=300,\n",
    "    dynamic=False\n",
    ")\n",
    "\n",
    "# Create a filled contour plot of intensity\n",
    "ax1 = ds_sub.hvplot.quadmesh(\n",
    "    'lon', 'lat', \"F\", cmap='viridis', alpha=0.8,\n",
    "    coastline=True, hover=False, clabel=\"Intensity / nT\", clim=(30000, 70000),\n",
    "    rasterize=True, datashade=True, aggregator='mean',\n",
    "    **fig_kwargs\n",
    ")\n",
    "ax2 = ds_sub.hvplot.contour(\n",
    "    'lon', 'lat', 'DEC', levels=40, cmap=\"seismic\", colorbar=False, legend=False,\n",
    "    **fig_kwargs\n",
    ")\n",
    "ax1 * ax2"
   ]
  },
  {
   "cell_type": "code",
   "execution_count": null,
   "metadata": {},
   "outputs": [],
   "source": [
    "# hvplot.save(ax1*ax2, \"hvplot_igrf_timeslider.html\")\n",
    "# see bug: https://github.com/holoviz/hvplot/issues/305\n",
    "renderer = holoviews.renderer('bokeh')\n",
    "renderer.save(ax1*ax2, 'hvplot_igrf_timeslider')\n",
    "!du -h hvplot_igrf_timeslider.html"
   ]
  },
  {
   "cell_type": "code",
   "execution_count": null,
   "metadata": {},
   "outputs": [],
   "source": [
    "renderer = holoviews.renderer('bokeh')\n",
    "renderer.save(ax1*ax2, 'hvplot_igrf_timeslider_b', fmt=\"scrubber\")"
   ]
  },
  {
   "cell_type": "code",
   "execution_count": null,
   "metadata": {},
   "outputs": [],
   "source": [
    "holoviews.save(ax, 'hvplot_igrf_timeslider_b.html', backend='bokeh', fmt=\"scrubber\")"
   ]
  },
  {
   "cell_type": "code",
   "execution_count": null,
   "metadata": {},
   "outputs": [],
   "source": []
  },
  {
   "cell_type": "markdown",
   "metadata": {},
   "source": [
    "# Lithospheric field (LCS-1)"
   ]
  },
  {
   "cell_type": "code",
   "execution_count": null,
   "metadata": {},
   "outputs": [],
   "source": [
    "# The list of times to sample and the grid to use\n",
    "times = np.array([dt.datetime(2000, 1, 1)])\n",
    "lat, lon, rad = generate_latlon_grid(resolution=0.4)\n",
    "# Evaluate the model\n",
    "b_nec = eval_model_on_grid(lat, lon, rad, times, model=eoxmagmod.data.LCS1)\n",
    "# Assign to an xarray.Dataset\n",
    "ds_lcs = xr.Dataset(\n",
    "    {'B_NEC_N': (['time', 'x', 'y'],  b_nec[:, :, :, 0]),\n",
    "     'B_NEC_E': (['time', 'x', 'y'],  b_nec[:, :, :, 1]),\n",
    "     'B_NEC_C': (['time', 'x', 'y'],  b_nec[:, :, :, 2]),},\n",
    "    coords={'lon': (['x', 'y'], lon),\n",
    "            'lat': (['x', 'y'], lat),\n",
    "            'time': times}).squeeze(\"time\")\n",
    "ds_lcs"
   ]
  },
  {
   "cell_type": "code",
   "execution_count": null,
   "metadata": {},
   "outputs": [],
   "source": [
    "fig_kwargs = dict(\n",
    "    projection=ccrs.Mollweide(), global_extent=True, frame_height=300,\n",
    "    rasterize=True, project=True, dynamic=False\n",
    "    #datashade=True, #aggregator=\"mean\"# \n",
    ")\n",
    "ax1 = ds.hvplot.quadmesh(\n",
    "    x='lon', y='lat', z=\"B_NEC_C\", cmap=nio_colormap(), alpha=0.4,\n",
    "#     hover=True, hover_cols=[\"B_NEC_N\", \"B_NEC_E\", \"B_NEC_C\"],\n",
    "    hover_cols=[\"B_NEC_C\", \"lat\", \"lon\"],\n",
    "    coastline=True, clabel=\"Vertical component / nT\",\n",
    "    clim=(-200, 200), colorbar=True, legend=True,\n",
    "    **fig_kwargs\n",
    ")\n",
    "ax1"
   ]
  },
  {
   "cell_type": "code",
   "execution_count": null,
   "metadata": {},
   "outputs": [],
   "source": [
    "fig = plt.figure(figsize=(20, 10))\n",
    "ax = fig.add_subplot(1, 1, 1, projection=ccrs.Mollweide())\n",
    "ds[\"B_NEC_C\"].plot(\n",
    "    x=\"lon\", y=\"lat\", ax=ax, transform=ccrs.PlateCarree(),\n",
    "    cmap=nio_colormap(), vmin=-200, vmax=200)\n",
    "ax.coastlines()\n",
    "ax.set_title(\"LCS-1 vertical component / nT\", fontdict={\"fontsize\": 25})\n",
    "ax"
   ]
  },
  {
   "cell_type": "markdown",
   "metadata": {},
   "source": [
    "# Ionospheric models..."
   ]
  },
  {
   "cell_type": "markdown",
   "metadata": {},
   "source": [
    "### Fetch the model from the FTP"
   ]
  },
  {
   "cell_type": "code",
   "execution_count": null,
   "metadata": {},
   "outputs": [],
   "source": [
    "import urllib.request as request\n",
    "import zipfile\n",
    "from tempfile import NamedTemporaryFile\n",
    "import shutil\n",
    "\n",
    "def fetch_zipped_file(url, file_name):\n",
    "    \"Fetch a given file from an online zip file\"\n",
    "    output_file = NamedTemporaryFile()\n",
    "    zip_file, _ = request.urlretrieve(url)\n",
    "    with zipfile.ZipFile(zip_file, 'r') as zip_ref:\n",
    "        with zip_ref.open(file_name) as f:\n",
    "            shutil.copyfileobj(f, output_file)\n",
    "            output_file.seek(0)\n",
    "    return output_file\n",
    "\n",
    "def load_mio():\n",
    "    url = 'ftp://swarm-diss.eo.esa.int/Level2longterm/MIO/SW_OPER_MIO_SHA_2C_20131201T000000_20170101T000000_0201.ZIP'\n",
    "    file_name = 'SW_OPER_MIO_SHA_2C_20131201T000000_20170101T000000_0201.txt'\n",
    "#     url = 'ftp://swarm-diss.eo.esa.int/Level2longterm/MIO/SW_OPER_MIO_SHA_2D_20131201T000000_20171231T235959_0402.ZIP'\n",
    "#     file_name = 'SW_OPER_MIO_SHA_2D_20131201T000000_20171231T235959_0402.txt'\n",
    "    mio_file = fetch_zipped_file(url, file_name)\n",
    "    mio_model = eoxmagmod.load_model_swarm_mio_external(mio_file.name)\n",
    "    return mio_model\n",
    "\n",
    "mio_model = load_mio()"
   ]
  },
  {
   "cell_type": "markdown",
   "metadata": {},
   "source": [
    "### Evaluate two datacubes: one over a day, and one over a year"
   ]
  },
  {
   "cell_type": "code",
   "execution_count": null,
   "metadata": {},
   "outputs": [],
   "source": [
    "def eval_mio_model(times=None, **kwargs):\n",
    "    lat, lon, rad = generate_latlon_grid(**kwargs)\n",
    "    # Evaluate the model\n",
    "    # NB need to pass a value for F107 for the MIO models\n",
    "    b_nec = eval_model_on_grid(lat, lon, rad, times, model=mio_model, f107=70)\n",
    "    # Assign to an xarray.Dataset\n",
    "    ds = xr.Dataset({'B_NEC': (['time', 'x', 'y', 'NEC'],  b_nec)},\n",
    "                 coords={'lon': (['x', 'y'], lon),\n",
    "                         'lat': (['x', 'y'], lat),\n",
    "                         'time': times})\n",
    "    return ds\n",
    "\n",
    "# Create the diurnal variation by sampling hours through one day\n",
    "# t0 = dt.datetime(2017, 1, 1)\n",
    "# times = np.array([t0 + dt.timedelta(hours=i) for i in np.linspace(0, 25, 6)])\n",
    "times = np.array([dt.datetime(2017, 1, 1, hour) for hour in range(0, 24, 4)])\n",
    "ds_day = eval_mio_model(times)\n",
    "# Create the seasonal variation by sampling noon-times through one year\n",
    "# times = np.array([dt.datetime(2017, int(i), 1, 12) for i in np.linspace(1, 12, 6)])\n",
    "times = np.array([dt.datetime(2017, month, 1, 12) for month in range(1, 12, 2)])\n",
    "ds_year = eval_mio_model(times)"
   ]
  },
  {
   "cell_type": "code",
   "execution_count": null,
   "metadata": {},
   "outputs": [],
   "source": [
    "# ds_day_sub = ds_day.isel(x=slice(0, -1, 2), y=slice(0, -1, 2))#, time=slice(0, -1, 2))\n",
    "# ds_day_sub = ds_day.isel(time=slice(0, -1, 2))"
   ]
  },
  {
   "cell_type": "markdown",
   "metadata": {},
   "source": [
    "### Visualise them with time sliders"
   ]
  },
  {
   "cell_type": "code",
   "execution_count": null,
   "metadata": {},
   "outputs": [],
   "source": [
    "fig_kwargs = dict(\n",
    "    projection=ccrs.Mollweide(), global_extent=True, frame_height=300,\n",
    "    coastline=True, x='lon', y='lat',\n",
    "    cmap=nio_colormap(), alpha=0.4, clim=(-50, 50),# levels=10,\n",
    "    clabel=\"nT\", colorbar=True, legend=True,\n",
    "    rasterize=True, project=True, dynamic=False, hover=False,\n",
    "#     datashade=True, aggregator=\"mean\"# \n",
    ")\n",
    "\n",
    "# ax1 = ds_day[\"B_NEC\"][:, :, :, 2].hvplot.quadmesh(**fig_kwargs).options(toolbar=None)\n",
    "# ax2 = ds_year[\"B_NEC\"][:, :, :, 2].hvplot.quadmesh(**fig_kwargs)\n",
    "\n",
    "# ax1"
   ]
  },
  {
   "cell_type": "markdown",
   "metadata": {},
   "source": [
    "### Export just pngs then build them into an animation (for small filesize)\n",
    "\n",
    "## TODO: redo these as contourf (or some other smooth option?) - contourf isn't working here..."
   ]
  },
  {
   "cell_type": "markdown",
   "metadata": {},
   "source": [
    "#### Create a higher resolution one for the videos"
   ]
  },
  {
   "cell_type": "code",
   "execution_count": null,
   "metadata": {},
   "outputs": [],
   "source": [
    "times = np.array([dt.datetime(2017, 1, 1, hour) for hour in range(0, 24, 1)])\n",
    "ds_day = eval_mio_model(times, resolution=2, min_lat=-60, max_lat=60)\n",
    "times = np.sort(np.array([dt.datetime(2017, month, 1, 12) for month in range(1, 13, 1)]\n",
    "                         + [dt.datetime(2017, month, 15, 12) for month in range(1, 13, 1)]))\n",
    "ds_year = eval_mio_model(times, resolution=2, min_lat=-60, max_lat=60)"
   ]
  },
  {
   "cell_type": "code",
   "execution_count": null,
   "metadata": {},
   "outputs": [],
   "source": [
    "# # # this crashes the kernel:\n",
    "# holoviews.renderer('matplotlib').save(ax1, 'test', fmt='gif')"
   ]
  },
  {
   "cell_type": "code",
   "execution_count": null,
   "metadata": {},
   "outputs": [],
   "source": [
    "ds_day.isel(time=[0]).squeeze(\"time\")[\"B_NEC\"][:, :, 2].hvplot.contourf(levels=10, **fig_kwargs,).options(toolbar=None)"
   ]
  },
  {
   "cell_type": "code",
   "execution_count": null,
   "metadata": {},
   "outputs": [],
   "source": [
    "## this was behaving weirdly before.. (ConnectioRefusedError...)\n",
    "## seems to work now when running notebook without any previous holoviews visible\n",
    "for i in range(ds_day.time.size):\n",
    "    # Get a time string to add to the plots...\n",
    "    t = pd.to_datetime(ds_day.time.data[i]).strftime('%Y-%m-%d %H:%M:%S')\n",
    "    ax = ds_day.isel(time=[i]).squeeze(\"time\")[\"B_NEC\"][:, :, 2].hvplot.quadmesh(**fig_kwargs, title=t).options(toolbar=None)\n",
    "    hvplot.save(ax, f'mio_day_{i:02}.png')\n",
    "#     holoviews.save(ax, f'mio_day_{i:02}.png')"
   ]
  },
  {
   "cell_type": "code",
   "execution_count": null,
   "metadata": {},
   "outputs": [],
   "source": [
    "# # using imagemagick \n",
    "# # convert doesn't have webm?\n",
    "# # gifs are much larger\n",
    "# !convert -delay 25 -loop 0 mio_day_*.png mio_day.gif"
   ]
  },
  {
   "cell_type": "code",
   "execution_count": null,
   "metadata": {},
   "outputs": [],
   "source": [
    "!ffmpeg -framerate 8 -i mio_day_%2d.png  mio_day.webm -y\n",
    "# !rm mio_day_*"
   ]
  },
  {
   "cell_type": "code",
   "execution_count": null,
   "metadata": {},
   "outputs": [],
   "source": [
    "for i in range(ds_year.time.size):\n",
    "    t = pd.to_datetime(ds_year.time.data[i]).strftime('%Y-%m-%d %H:%M:%S')\n",
    "    ax = ds_year.isel(time=[i]).squeeze(\"time\")[\"B_NEC\"][:, :, 2].hvplot.quadmesh(**fig_kwargs, title=t).options(toolbar=None)\n",
    "    hvplot.save(ax, f'mio_year_{i:02}.png')"
   ]
  },
  {
   "cell_type": "code",
   "execution_count": null,
   "metadata": {},
   "outputs": [],
   "source": [
    "!ffmpeg -framerate 8 -i mio_year_%2d.png  mio_year.webm -y"
   ]
  },
  {
   "cell_type": "code",
   "execution_count": null,
   "metadata": {},
   "outputs": [],
   "source": [
    "!rm mio_day_*"
   ]
  },
  {
   "cell_type": "code",
   "execution_count": null,
   "metadata": {},
   "outputs": [],
   "source": [
    "!rm mio_year_*"
   ]
  },
  {
   "cell_type": "markdown",
   "metadata": {},
   "source": [
    "# Magnetospheric models..."
   ]
  },
  {
   "cell_type": "code",
   "execution_count": null,
   "metadata": {},
   "outputs": [],
   "source": [
    "def load_mma():\n",
    "    url = 'ftp://swarm-diss.eo.esa.int/Level2longterm/MMA/SW_OPER_MMA_SHA_2C_20131201T000000_20180101T000000_0401.ZIP'\n",
    "    file_name = 'SW_OPER_MMA_SHA_2C_20131201T000000_20180101T000000_0401.cdf'\n",
    "    mma_file = fetch_zipped_file(url, file_name)\n",
    "    mma_model = eoxmagmod.load_model_swarm_mma_2c_external(mma_file.name)\n",
    "    return mma_model\n",
    "\n",
    "mma_model = load_mma()\n",
    "mma_model"
   ]
  },
  {
   "cell_type": "code",
   "execution_count": null,
   "metadata": {},
   "outputs": [],
   "source": [
    "def eval_mma_model(times=None, **kwargs):\n",
    "    lat, lon, rad = generate_latlon_grid(**kwargs)\n",
    "    # Evaluate the model\n",
    "    # NB need to pass a value for F107 for the MIO models\n",
    "    b_nec = eval_model_on_grid(lat, lon, rad, times, model=mma_model)\n",
    "    # Assign to an xarray.Dataset\n",
    "    ds = xr.Dataset({'B_NEC': (['time', 'x', 'y', 'NEC'],  b_nec)},\n",
    "                 coords={'lon': (['x', 'y'], lon),\n",
    "                         'lat': (['x', 'y'], lat),\n",
    "                         'time': times})\n",
    "    return ds\n",
    "\n",
    "# times = np.array([dt.datetime(2017, 1, 1, hour) for hour in range(0, 24, 4)])\n",
    "# ds_day = eval_mma_model(times, resolution=4)\n",
    "# ds_day[\"B_NEC\"][:, :, :, 2].hvplot.quadmesh(**fig_kwargs).options(toolbar=None)"
   ]
  },
  {
   "cell_type": "markdown",
   "metadata": {},
   "source": [
    "### Create a 3-day-long hourly-sampled video ... also plot Dst?"
   ]
  },
  {
   "cell_type": "code",
   "execution_count": null,
   "metadata": {},
   "outputs": [],
   "source": [
    "t0 = dt.datetime(2017, 1, 1)\n",
    "times = np.array([t0 + dt.timedelta(hours=i) for i in range(0, 24*3, 1)])\n",
    "ds_day = eval_mma_model(times, resolution=2)"
   ]
  },
  {
   "cell_type": "code",
   "execution_count": null,
   "metadata": {},
   "outputs": [],
   "source": [
    "## this was behaving weirdly before.. (ConnectioRefusedError...)\n",
    "## seems to work now when running notebook without any previous holoviews visible\n",
    "for i in range(ds_day.time.size):\n",
    "    # Get a time string to add to the plots...\n",
    "    t = pd.to_datetime(ds_day.time.data[i]).strftime('%Y-%m-%d %H:%M:%S')\n",
    "    ax = ds_day.isel(time=[i]).squeeze(\"time\")[\"B_NEC\"][:, :, 2].hvplot.quadmesh(**fig_kwargs, title=t).options(toolbar=None)\n",
    "    hvplot.save(ax, f'mma_day_{i:02}.png')\n",
    "#     holoviews.save(ax, f'mio_day_{i:02}.png')"
   ]
  },
  {
   "cell_type": "code",
   "execution_count": null,
   "metadata": {},
   "outputs": [],
   "source": [
    "!ffmpeg -framerate 8 -i mma_day_%2d.png  mma_days.webm -y"
   ]
  },
  {
   "cell_type": "code",
   "execution_count": null,
   "metadata": {},
   "outputs": [],
   "source": [
    "!rm mma_day_*"
   ]
  }
 ],
 "metadata": {
  "kernelspec": {
   "display_name": "Python 3",
   "language": "python",
   "name": "python3"
  },
  "language_info": {
   "codemirror_mode": {
    "name": "ipython",
    "version": 3
   },
   "file_extension": ".py",
   "mimetype": "text/x-python",
   "name": "python",
   "nbconvert_exporter": "python",
   "pygments_lexer": "ipython3",
   "version": "3.8.8"
  }
 },
 "nbformat": 4,
 "nbformat_minor": 4
}
