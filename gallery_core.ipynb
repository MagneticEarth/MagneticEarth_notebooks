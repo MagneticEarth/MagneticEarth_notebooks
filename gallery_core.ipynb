{
 "cells": [
  {
   "cell_type": "code",
   "execution_count": null,
   "metadata": {},
   "outputs": [],
   "source": [
    "%load_ext autoreload\n",
    "%autoreload 2\n",
    "\n",
    "import subprocess\n",
    "import datetime as dt\n",
    "import numpy as np\n",
    "import pandas as pd\n",
    "import matplotlib.pyplot as plt\n",
    "import xarray as xr\n",
    "import hvplot.xarray\n",
    "import holoviews as hv\n",
    "import cartopy.crs as ccrs\n",
    "import geoviews as gv\n",
    "import geoviews.feature as gf\n",
    "gv.extension('bokeh', 'matplotlib')\n",
    "\n",
    "from bokeh.models import PrintfTickFormatter\n",
    "\n",
    "import eoxmagmod\n",
    "from chaosmagpy.plot_utils import nio_colormap\n",
    "\n",
    "from src import build_model_xarray"
   ]
  },
  {
   "cell_type": "code",
   "execution_count": null,
   "metadata": {},
   "outputs": [],
   "source": [
    "# hv.help(hv.Contours)"
   ]
  },
  {
   "cell_type": "code",
   "execution_count": null,
   "metadata": {},
   "outputs": [],
   "source": [
    "# TODO: find gufm1 and stitch it with IGRF13"
   ]
  },
  {
   "cell_type": "markdown",
   "metadata": {},
   "source": [
    "## Build evaluated model xarray & define plot types"
   ]
  },
  {
   "cell_type": "code",
   "execution_count": null,
   "metadata": {},
   "outputs": [],
   "source": [
    "times = np.array([dt.datetime(year, 1, 1) for year in range(1900, 2026, 5)])\n",
    "ds = build_model_xarray(\"IGRF13.shc\", times)"
   ]
  },
  {
   "cell_type": "code",
   "execution_count": null,
   "metadata": {},
   "outputs": [],
   "source": [
    "# Some configuration to use for all plots\n",
    "# NB must set dynamic=False so that the bokeh plot does not rely on a server\n",
    "fig_kwargs = dict(\n",
    "    projection=ccrs.Mollweide(), global_extent=True, frame_height=200,\n",
    "    hover=False, dynamic=False\n",
    ")\n",
    "\n",
    "def quadmesh(ds, component, **opts):\n",
    "    \"\"\"Plot X, Y, Z, F, H with nT\"\"\"\n",
    "    _fig_kwargs = fig_kwargs.copy()\n",
    "    if component in [\"B_N\", \"B_E\", \"B_C\"]:\n",
    "        _fig_kwargs.update(dict(\n",
    "            cmap = nio_colormap(), clim=(-70000, 70000)))\n",
    "    elif component in [\"F\", \"H\"]:\n",
    "        _fig_kwargs.update(dict(\n",
    "            cmap = \"viridis\", clim=(20000, 70000)))\n",
    "    _fig_kwargs.update(dict(\n",
    "        alpha=0.8, clabel=\"nT\", coastline=True,\n",
    "        rasterize=True))#, datashade=True, aggregator=\"mean\",))\n",
    "    _fig_kwargs.update(opts)\n",
    "    return ds.hvplot.quadmesh(\n",
    "        'lon', 'lat', component, \n",
    "        **_fig_kwargs\n",
    "    )\n",
    "\n",
    "def contourf(ds, component, unit=\"nT\", **opts):\n",
    "    \"\"\"Currently crashes on DEC/INC ...\"\"\"\n",
    "    ds = ds.copy()\n",
    "    _fig_kwargs = fig_kwargs.copy()\n",
    "    if component in [\"B_N\", \"B_E\", \"B_C\"]:\n",
    "        _fig_kwargs.update(dict(\n",
    "            clabel=\"nT\",\n",
    "            cmap=nio_colormap(), levels=np.linspace(-70000, 70000, 51)))\n",
    "    elif component in [\"F\", \"H\"]:\n",
    "        _fig_kwargs.update(dict(\n",
    "            clabel=\"nT\",\n",
    "            cmap=\"viridis\", levels=np.linspace(20000, 70000, 51)))\n",
    "    elif component in [\"DEC\", \"INC\"]:\n",
    "        fig_kwargs.update(dict(\n",
    "            clabel=\"deg\",\n",
    "            cmap=nio_colormap(), levels=np.linspace(-90, 90, 37)))\n",
    "    # NB need to set the contours explicitly in order to fix them across timeslices\n",
    "    _fig_kwargs.update(dict(\n",
    "        alpha=0.8, coastline=True))\n",
    "    if unit == \"nT\":\n",
    "        pass\n",
    "    elif unit == \"deg\":\n",
    "        pass\n",
    "    elif unit == \"μT\":\n",
    "        ds[component] = _ds[component]/1e3\n",
    "        _fig_kwargs[\"levels\"] = _fig_kwargs[\"levels\"]/1e3\n",
    "        _fig_kwargs[\"clabel\"] =\"μT\"\n",
    "    _fig_kwargs.update(opts)\n",
    "    return ds.hvplot.contourf(\n",
    "        'lon', 'lat', component, \n",
    "        **_fig_kwargs\n",
    "    )\n",
    "\n",
    "def contour(ds, component, color_continents=False, **opts):\n",
    "    \"\"\"Plot DEC or INC in degrees\"\"\"\n",
    "    _fig_kwargs = fig_kwargs.copy()\n",
    "    _fig_kwargs.update(dict(\n",
    "        levels=30, clim=(-90, 90), cmap=nio_colormap(), line_width=2, hover=True,\n",
    "        coastline=True,\n",
    "#         colorbar=False, legend=False\n",
    "    ))\n",
    "    _fig_kwargs.update(opts)\n",
    "    ax = (\n",
    "        ds.hvplot.contour(\n",
    "            'lon', 'lat', component, \n",
    "            **_fig_kwargs)\n",
    "        # set degree formatter on colorbar\n",
    "        .opts({\"Contours\": {\"colorbar_opts\": {\"formatter\": PrintfTickFormatter(format=\"%i°\")}}}))\n",
    "    if color_continents:\n",
    "        ax = (gf.land(fill_color=\"darkseagreen\", alpha=0.6) *\n",
    "              gf.ocean(fill_color=\"steelblue\", alpha=0.6) *\n",
    "              ax)\n",
    "    return ax\n",
    "\n",
    "# _ds = ds.isel(time=[0]).squeeze(\"time\")\n",
    "# contourf(_ds, \"DEC\")"
   ]
  },
  {
   "cell_type": "code",
   "execution_count": null,
   "metadata": {},
   "outputs": [],
   "source": [
    "# # identify integer contour options\n",
    "# for i in range(55):\n",
    "#     a = np.linspace(20000, 70000, i)\n",
    "#     if all([(num%1 == 0) for num in a]):\n",
    "#         print(i, a)"
   ]
  },
  {
   "cell_type": "markdown",
   "metadata": {},
   "source": [
    "## Experimental interactive plots"
   ]
  },
  {
   "cell_type": "code",
   "execution_count": null,
   "metadata": {},
   "outputs": [],
   "source": [
    "_ds = ds.isel(x=slice(0, -1, 4), y=slice(0, -1, 4), time=slice(0, -1, 4))\n",
    "ax1 = quadmesh(_ds, \"B_C\", alpha=0.5)\n",
    "# NB should be more accurate to use datashader, but seems to glitch and fill in the background of the figure\n",
    "# hv.save(ax1, \"test1.html\")\n",
    "# ax1"
   ]
  },
  {
   "cell_type": "code",
   "execution_count": null,
   "metadata": {},
   "outputs": [],
   "source": [
    "_ds = ds.isel(time=slice(0, -1, 4))\n",
    "ax2 = contourf(_ds, \"F\", alpha=0.6)\n",
    "ax2\n",
    "# hv.save(ax2, \"test4.html\")\n",
    "# hv.save(ax2, \"test6.html\", fmt=\"scrubber\")\n",
    "# contourf plots are ~10x smaller in filesize than quadmesh !!!\n",
    "# BUT GLITCHES AT SOME TIME STEPS. try Martin's suggestion of projecting *before* plotting\n",
    "# NB there are also glitches at the antemeridian but not really noticeable when using high sampling\n",
    "#   https://github.com/pacesm/jupyter_notebooks/blob/master/examples/CHAOS-6_Cartopy_Contours.ipynb"
   ]
  },
  {
   "cell_type": "code",
   "execution_count": null,
   "metadata": {},
   "outputs": [],
   "source": [
    "# # how to add labels to the contours?\n",
    "# hv.help(hv.Contours)"
   ]
  },
  {
   "cell_type": "code",
   "execution_count": null,
   "metadata": {},
   "outputs": [],
   "source": [
    "_ds = ds.isel(time=[-2])\n",
    "# ax3 = contour(_ds, \"DEC\", hover=True, colorbar=False, legend=False, color_continents=True)\n",
    "# ax3"
   ]
  },
  {
   "cell_type": "code",
   "execution_count": null,
   "metadata": {},
   "outputs": [],
   "source": [
    "ax = (\n",
    "    contourf(_ds, \"F\", levels=np.linspace(20, 70, 11), unit=\"μT\", clabel=\"Intensity [μT]\",\n",
    "             frame_height=300, title=\"IGRF-13 evaluated at 01/01/2020\")\n",
    "    .opts({\"Polygons\": {\"colorbar_position\": \"right\"}})#, \"colorbar_opts\":{\"title_standoff\": 10}}})#, \"title_text_font_size\":12}}})\n",
    "    *\n",
    "    contour(_ds, \"DEC\", hover=True, color_continents=False, clabel=\"Declination [deg]\",\n",
    "            colorbar=True, legend=True,\n",
    "           )\n",
    "    .opts({\"Contours\": {\"colorbar_position\": \"left\"}})\n",
    ")\n",
    "# hv.save(ax, \"hvplot_igrf13_2020b.html\")\n",
    "hvplot.save(ax.opts(toolbar=None), \"igrf13_2020_FD.png\")\n",
    "ax\n"
   ]
  },
  {
   "cell_type": "markdown",
   "metadata": {},
   "source": [
    "## Create video of Z component"
   ]
  },
  {
   "cell_type": "code",
   "execution_count": null,
   "metadata": {},
   "outputs": [],
   "source": [
    "# Increase spacing of colorbar tick labels from the bar\n",
    "formatter = PrintfTickFormatter(format=\"      %i\")\n",
    "\n",
    "for i in range(ds.time.size):\n",
    "    # Get a time string to add to the plots...\n",
    "    t = pd.to_datetime(ds.time.data[i]).strftime('%Y-%m-%d %H:%M:%S')\n",
    "    _ds = ds.isel(time=[i]).squeeze(\"time\")\n",
    "    ax = (\n",
    "        quadmesh(_ds, \"B_C\", colorbar=True, frame_height=300)\n",
    "        .opts(toolbar=None, title=t)\n",
    "        .opts({\"Image\":\n",
    "              {\"colorbar_opts\": {\"formatter\": formatter}}})\n",
    "    )\n",
    "    hvplot.save(ax, f'tmp/frame_{i:03}.png')\n",
    "subprocess.run(\"ffmpeg -framerate 8 -i tmp/frame_%3d.png core_igrf_Z.webm -y\".split(\" \"), check=True)"
   ]
  },
  {
   "cell_type": "markdown",
   "metadata": {},
   "source": [
    "## Create video of all components"
   ]
  },
  {
   "cell_type": "code",
   "execution_count": null,
   "metadata": {},
   "outputs": [],
   "source": [
    "for i in range(ds.time.size):\n",
    "    # Get a time string to add to the plots...\n",
    "#     t = pd.to_datetime(ds.time.data[i]).strftime('%Y-%m-%d %H:%M:%S') + \" (IGRF-13)\"\n",
    "    t = pd.to_datetime(ds.time.data[i]).strftime('%Y-%m-%d') + \"  (IGRF-13)\"\n",
    "    _ds = ds.isel(time=[i]).squeeze(\"time\")\n",
    "    # Convert to uT\n",
    "    for var in [\"B_N\", \"B_E\", \"B_C\", \"F\"]:\n",
    "        _ds[var] = _ds[var]/1e3\n",
    "    ax = (\n",
    "        quadmesh(_ds, \"B_N\", title=\"Northward (X)\", clabel=\"μT\", clim=(-70, 70)) +\n",
    "        quadmesh(_ds, \"B_E\", title=\"Eastward (Y)\", clabel=\"μT\", clim=(-70, 70)) +\n",
    "        quadmesh(_ds, \"B_C\", title=\"Downward (Z)\", clabel=\"μT\", clim=(-70, 70)) +\n",
    "        contour(_ds, \"DEC\", title=\"Declination (D)\", color_continents=True) +\n",
    "        contour(_ds, \"INC\", title=\"Inclination (I)\", color_continents=True) +\n",
    "        quadmesh(_ds, \"F\", title=\"Intensity (F)\", clabel=\"μT\", clim=(20, 70))\n",
    "    ).options(toolbar=None, title=t).cols(3)\n",
    "    hvplot.save(ax, f'tmp/frame_{i:03}.png')\n",
    "# remove unintended background transparency (requires imagemagick)\n",
    "subprocess.run(\"mogrify -flatten tmp/*.png\".split(\" \"))\n",
    "subprocess.run(\"ffmpeg -framerate 8 -i tmp/frame_%3d.png core_igrf_fullvector.webm -y\".split(\" \"), check=True)\n",
    "# subprocess.run(\"rm tmp/frame_*\".split(\" \"))\n",
    "# !rm tmp/frame_*"
   ]
  },
  {
   "cell_type": "markdown",
   "metadata": {},
   "source": [
    "### alternative contourf version (NB broken DEC, INC) (glitching contourf)"
   ]
  },
  {
   "cell_type": "code",
   "execution_count": null,
   "metadata": {},
   "outputs": [],
   "source": [
    "for i in range(ds.time.size):\n",
    "    t = pd.to_datetime(ds.time.data[i]).strftime('%Y-%m-%d') + \"  (IGRF-13)\"\n",
    "    _ds = ds.isel(time=[i]).squeeze(\"time\")\n",
    "    ax = (\n",
    "        contourf(_ds, \"B_N\", title=\"Northward (X)\", unit=\"μT\") +\n",
    "        contourf(_ds, \"B_E\", title=\"Eastward (Y)\", unit=\"μT\") +\n",
    "        contourf(_ds, \"B_C\", title=\"Downward (Z)\", unit=\"μT\") +\n",
    "        contour(_ds, \"DEC\", title=\"Declination (D)\") +\n",
    "        contour(_ds, \"INC\", title=\"Inclination (I)\") +\n",
    "        contourf(_ds, \"F\", title=\"Intensity (F)\", unit=\"μT\")\n",
    "    ).options(toolbar=None, title=t).cols(3)\n",
    "    hvplot.save(ax, f'tmp/frame_{i:03}.png')\n",
    "# remove unintended background transparency (requires imagemagick)\n",
    "subprocess.run(\"mogrify -flatten tmp/*.png\".split(\" \"))\n",
    "subprocess.run(\"ffmpeg -framerate 8 -i tmp/frame_%3d.png core_igrf_fullvector_2.webm -y\".split(\" \"), check=True)"
   ]
  }
 ],
 "metadata": {
  "kernelspec": {
   "display_name": "Python 3",
   "language": "python",
   "name": "python3"
  },
  "language_info": {
   "codemirror_mode": {
    "name": "ipython",
    "version": 3
   },
   "file_extension": ".py",
   "mimetype": "text/x-python",
   "name": "python",
   "nbconvert_exporter": "python",
   "pygments_lexer": "ipython3",
   "version": "3.7.3"
  }
 },
 "nbformat": 4,
 "nbformat_minor": 4
}
