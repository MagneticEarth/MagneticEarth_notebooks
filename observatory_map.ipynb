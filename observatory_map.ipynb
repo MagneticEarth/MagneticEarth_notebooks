{
 "cells": [
  {
   "cell_type": "code",
   "execution_count": null,
   "id": "prompt-picture",
   "metadata": {},
   "outputs": [],
   "source": [
    "import pandas as pd\n",
    "from cartopy import crs\n",
    "from bokeh.models import HoverTool\n",
    "import geoviews as gv\n",
    "import geoviews.feature as gf\n",
    "\n",
    "gv.extension(\"bokeh\")"
   ]
  },
  {
   "cell_type": "markdown",
   "id": "minimal-munich",
   "metadata": {},
   "source": [
    "## Load INTERMAGNET & SuperMAG locations\n",
    "\n",
    "Sources:\n",
    " - https://www.intermagnet.org/imos/imotblobs-eng.php\n",
    " - https://supermag.jhuapl.edu/inventory\n",
    " \n",
    "Not including other WDC locations:\n",
    " - http://www.wdc.bgs.ac.uk/data.html"
   ]
  },
  {
   "cell_type": "code",
   "execution_count": null,
   "id": "acknowledged-automation",
   "metadata": {},
   "outputs": [],
   "source": [
    "df_iaga = pd.read_csv(\"data/IAGA_observatories.txt\", sep=\"\\t\", header=1)\n",
    "# Remove spurious spaces in column names\n",
    "for col in df_iaga.columns:\n",
    "    df_iaga = df_iaga.rename(columns={col:col.strip()})\n",
    "# Strip spurious spaces in each column\n",
    "for col in df_iaga.columns:\n",
    "    df_iaga[col] = df_iaga[col].str.strip()\n",
    "# Identify retired observatories indicated by *\n",
    "for i, row in df_iaga.iterrows():\n",
    "    df_iaga.loc[i, \"Former observatory\"] = \"*\" in row[\"IAGA\"]\n",
    "    df_iaga.loc[i, \"IAGA\"] = row[\"IAGA\"].replace(\"*\", \"\")\n",
    "df_iaga"
   ]
  },
  {
   "cell_type": "code",
   "execution_count": null,
   "id": "unlikely-uzbekistan",
   "metadata": {},
   "outputs": [],
   "source": [
    "df_supermag = pd.read_csv(\"data/SuperMAG-Inventory-60s-2021-04-17.txt\", sep=\"\\t\", header=1)\n",
    "df_supermag"
   ]
  },
  {
   "cell_type": "code",
   "execution_count": null,
   "id": "facial-ancient",
   "metadata": {},
   "outputs": [],
   "source": [
    "# IAGA observatories not in SuperMAG list\n",
    "iaga_codes = set(df_iaga[\"IAGA\"].values)\n",
    "codes_supermag = set(df_supermag[\"IAGA\"].values)\n",
    "{i for i in iaga_codes if i not in codes_supermag}"
   ]
  },
  {
   "cell_type": "markdown",
   "id": "ecological-instrumentation",
   "metadata": {},
   "source": [
    "## Construct dataset to visualise"
   ]
  },
  {
   "cell_type": "code",
   "execution_count": null,
   "id": "human-links",
   "metadata": {},
   "outputs": [],
   "source": [
    "df = df_supermag[[\"IAGA\", \"GLON\", \"GLAT\", \"Station name\"]]\n",
    "df = df.rename(columns={\"IAGA\":\"IAGA_code\", \"Station name\":\"Station_name\", \"GLON\":\"Longitude\", \"GLAT\":\"Latitude\"})\n",
    "df[\"Catalog\"] = \"SuperMAG\"\n",
    "for i, row in df.iterrows():\n",
    "    if row[\"IAGA_code\"] in iaga_codes:\n",
    "        df.loc[i, \"Catalog\"] = \"+ INTERMAGNET\"\n",
    "df"
   ]
  },
  {
   "cell_type": "markdown",
   "id": "mechanical-lesson",
   "metadata": {},
   "source": [
    "## Construct visualisation\n",
    "\n",
    "Make something like: https://intermagnet.github.io/metadata/map\n",
    "\n",
    "Check guides at https://geoviews.org/"
   ]
  },
  {
   "cell_type": "code",
   "execution_count": null,
   "id": "indie-world",
   "metadata": {},
   "outputs": [],
   "source": [
    "points = gv.Points(df, kdims=[\"Longitude\", \"Latitude\"], vdims=[\"IAGA_code\", \"Station_name\", \"Catalog\"])"
   ]
  },
  {
   "cell_type": "code",
   "execution_count": null,
   "id": "outer-unknown",
   "metadata": {},
   "outputs": [],
   "source": [
    "features = gv.Overlay([gf.ocean, gf.land, gf.borders])"
   ]
  },
  {
   "cell_type": "code",
   "execution_count": null,
   "id": "comprehensive-edgar",
   "metadata": {},
   "outputs": [],
   "source": [
    "# Manually change the hover to remove Lat/lon which is incorrect\n",
    "# Shouldn't this be fixed already? ref https://github.com/holoviz/geoviews/issues/100\n",
    "hover = HoverTool(tooltips=[(\"IAGA code\", \"@{IAGA_code}\"), (\"Station name\", \"@{Station_name}\")])"
   ]
  },
  {
   "cell_type": "code",
   "execution_count": null,
   "id": "injured-interest",
   "metadata": {},
   "outputs": [],
   "source": [
    "options = dict(\n",
    "    alpha=0.6, size=7, color=\"Catalog\", cmap=\"Spectral\",\n",
    "    tools=[hover],\n",
    "    global_extent=True, width=800, height=400,\n",
    "    projection=crs.Mollweide()\n",
    ")"
   ]
  },
  {
   "cell_type": "code",
   "execution_count": null,
   "id": "weighted-plate",
   "metadata": {},
   "outputs": [],
   "source": [
    "fig = features * points.opts(**options)\n",
    "fig"
   ]
  },
  {
   "cell_type": "code",
   "execution_count": null,
   "id": "french-approval",
   "metadata": {},
   "outputs": [],
   "source": [
    "!mkdir outputs -p\n",
    "gv.save(fig, \"outputs/hvplot_mag_obs_map.html\")"
   ]
  }
 ],
 "metadata": {
  "kernelspec": {
   "display_name": "Python 3",
   "language": "python",
   "name": "python3"
  },
  "language_info": {
   "codemirror_mode": {
    "name": "ipython",
    "version": 3
   },
   "file_extension": ".py",
   "mimetype": "text/x-python",
   "name": "python",
   "nbconvert_exporter": "python",
   "pygments_lexer": "ipython3",
   "version": "3.8.8"
  }
 },
 "nbformat": 4,
 "nbformat_minor": 5
}
